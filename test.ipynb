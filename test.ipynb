{
 "cells": [
  {
   "cell_type": "code",
   "execution_count": 9,
   "metadata": {},
   "outputs": [],
   "source": [
    "from moldf import read_mol2\n",
    "import numpy as np\n",
    "\n",
    "mol2 = r\"C:\\Users\\evani\\OneDrive\\Documenten\\Phd\\RLMD\\PDBbind_v2020_refined\\refined-set\\6fhq\\6fhq_ligand.mol2\"\n",
    "ligand_df = read_mol2(mol2)[\"ATOM\"]"
   ]
  },
  {
   "cell_type": "code",
   "execution_count": 31,
   "metadata": {},
   "outputs": [],
   "source": [
    "def retrieve_coords(df):\n",
    "        coords = df[[\"x\", \"y\", \"z\"]].to_numpy()\n",
    "        return coords"
   ]
  },
  {
   "cell_type": "code",
   "execution_count": 58,
   "metadata": {},
   "outputs": [
    {
     "data": {
      "text/plain": [
       "array([[19.57600021,  2.65400004,  7.86399984,  0.        ],\n",
       "       [19.35300064,  1.15199995,  8.26000023,  0.        ],\n",
       "       [19.14500046,  4.50299978,  4.78800011,  0.        ],\n",
       "       [19.20100021,  2.93199992,  6.56599998,  0.        ],\n",
       "       [19.28199959,  4.18900013,  6.08400011,  0.        ],\n",
       "       [19.41399956,  0.91299999,  9.74100018,  0.        ],\n",
       "       [19.25399971,  5.83199978,  4.50500011,  0.        ],\n",
       "       [19.49600029,  6.60500002,  5.58500004,  0.        ],\n",
       "       [19.54999924,  5.63000011,  6.94999981,  0.        ],\n",
       "       [19.98699951,  3.49600005,  8.68900013,  0.        ],\n",
       "       [20.13139915,  0.54400003,  7.77589989,  0.        ],\n",
       "       [18.3635006 ,  0.83819997,  7.89620018,  0.        ],\n",
       "       [18.86650085,  2.19569993,  5.97779989,  0.        ],\n",
       "       [19.26399994, -0.0657    ,  9.92980003,  0.        ],\n",
       "       [18.69939995,  1.4569    , 10.19890022,  0.        ],\n",
       "       [20.31949997,  1.18729997, 10.08860016,  0.        ],\n",
       "       [19.15469933,  6.2342    ,  3.49790001,  0.        ],\n",
       "       [19.63369942,  7.68520021,  5.57250023,  0.        ]])"
      ]
     },
     "execution_count": 58,
     "metadata": {},
     "output_type": "execute_result"
    }
   ],
   "source": [
    "crds = retrieve_coords(ligand_df)\n",
    "_l = np.zeros((len(crds),1))\n",
    "np.hstack((crds, _l))"
   ]
  },
  {
   "cell_type": "code",
   "execution_count": null,
   "metadata": {},
   "outputs": [],
   "source": [
    "env = np.array((100,4))\n",
    "obs = np.array((100,4))"
   ]
  },
  {
   "cell_type": "code",
   "execution_count": 1,
   "metadata": {},
   "outputs": [],
   "source": [
    "import torch"
   ]
  },
  {
   "cell_type": "code",
   "execution_count": 3,
   "metadata": {},
   "outputs": [
    {
     "data": {
      "text/plain": [
       "torch.Size([2048, 1, 100, 4])"
      ]
     },
     "execution_count": 3,
     "metadata": {},
     "output_type": "execute_result"
    }
   ],
   "source": [
    "torch.zeros((2048,1) + (100,4)).shape"
   ]
  },
  {
   "cell_type": "code",
   "execution_count": 9,
   "metadata": {},
   "outputs": [
    {
     "name": "stdout",
     "output_type": "stream",
     "text": [
      "torch.Size([64, 3])\n",
      "torch.Size([64, 64, 3])\n"
     ]
    }
   ],
   "source": [
    "import torch\n",
    "from torch.distributions import Normal\n",
    "\n",
    "# Batch of data with shape [64, 1, 3]\n",
    "batch_data = torch.randn(64, 3)**2  # Normally distributed random values for example\n",
    "\n",
    "# Create a normal distribution with mean=0 and std=1\n",
    "probs = Normal(loc=batch_data, scale=batch_data)\n",
    "\n",
    "print(batch_data.shape)\n",
    "action = torch.randn(64,1, 3)**2\n",
    "\n",
    "# Calculate log_prob for the entire batch\n",
    "log_probs = probs.log_prob(action)\n",
    "\n",
    "print(log_probs.shape)\n"
   ]
  },
  {
   "cell_type": "code",
   "execution_count": 11,
   "metadata": {},
   "outputs": [
    {
     "name": "stdout",
     "output_type": "stream",
     "text": [
      "Log Probabilities Shape: torch.Size([64, 3])\n",
      "Log Probabilities: tensor([[-1.7683, -0.2289, -1.6149],\n",
      "        [-4.7913, -3.0241, -1.7321],\n",
      "        [-1.0119, -0.8573, -2.0196],\n",
      "        [-1.6901, -0.4033, -2.0291],\n",
      "        [-0.9864, -0.2594, -3.1952],\n",
      "        [-0.9323, -0.4795, -5.0946],\n",
      "        [-0.9910, -1.3582, -1.7105],\n",
      "        [-1.0154, -0.6440, -1.6886],\n",
      "        [-2.0493, -0.5410, -1.6638],\n",
      "        [-0.9549, -1.1894, -2.7361],\n",
      "        [-1.6296, -0.3257, -1.6884],\n",
      "        [-1.5803, -1.9507, -1.7105],\n",
      "        [-2.6788, -3.1944, -1.6744],\n",
      "        [-1.0101, -0.3454, -1.8789],\n",
      "        [-0.9380, -0.6140, -1.8398],\n",
      "        [-1.8215, -0.2857, -1.7600],\n",
      "        [-1.3941, -1.1513, -1.7401],\n",
      "        [-1.2301, -0.3242, -1.8067],\n",
      "        [-0.9244, -0.3098, -2.1738],\n",
      "        [-1.7560, -1.6635, -2.6090],\n",
      "        [-1.4929, -2.3824, -1.6655],\n",
      "        [-1.6736, -0.2782, -1.6128],\n",
      "        [-0.9281, -0.2472, -2.1129],\n",
      "        [-0.9200, -0.2337, -2.8576],\n",
      "        [-1.0440, -0.3204, -4.4654],\n",
      "        [-1.4517, -0.3505, -2.5187],\n",
      "        [-2.4370, -0.6602, -2.4114],\n",
      "        [-0.9273, -0.2287, -1.7117],\n",
      "        [-0.9235, -1.6579, -2.2204],\n",
      "        [-0.9226, -0.5990, -3.0140],\n",
      "        [-2.5583, -0.2620, -1.7374],\n",
      "        [-0.9973, -0.5405, -1.8141],\n",
      "        [-1.1624, -1.6648, -2.0151],\n",
      "        [-1.0205, -0.2258, -1.6136],\n",
      "        [-2.2224, -0.3058, -2.7928],\n",
      "        [-1.0402, -4.3546, -2.4930],\n",
      "        [-1.0855, -0.7985, -1.6466],\n",
      "        [-0.9293, -0.2383, -1.6121],\n",
      "        [-1.7498, -0.3177, -2.0300],\n",
      "        [-1.1376, -0.2598, -1.8933],\n",
      "        [-4.2204, -1.0329, -2.6647],\n",
      "        [-0.9400, -0.3586, -2.8664],\n",
      "        [-1.0966, -0.3259, -1.7043],\n",
      "        [-2.5928, -0.2702, -1.8019],\n",
      "        [-1.2588, -0.3251, -1.6293],\n",
      "        [-2.5939, -0.5177, -1.8804],\n",
      "        [-0.9350, -0.7599, -3.0532],\n",
      "        [-0.9257, -0.7418, -2.2275],\n",
      "        [-1.2967, -0.2891, -2.7268],\n",
      "        [-1.4849, -0.2637, -2.7500],\n",
      "        [-1.0057, -0.2619, -1.6364],\n",
      "        [-1.7242, -0.6240, -1.7631],\n",
      "        [-0.9542, -0.9533, -1.6200],\n",
      "        [-0.9700, -0.6716, -1.6376],\n",
      "        [-3.2607, -0.2314, -1.6948],\n",
      "        [-0.9603, -1.1580, -2.1850],\n",
      "        [-1.2372, -1.1135, -1.8972],\n",
      "        [-0.9428, -0.2345, -1.6315],\n",
      "        [-1.7288, -0.9903, -1.7570],\n",
      "        [-1.2882, -0.2597, -1.6210],\n",
      "        [-1.1955, -0.2700, -3.4520],\n",
      "        [-0.9196, -2.9281, -1.9180],\n",
      "        [-1.1334, -0.6719, -1.7763],\n",
      "        [-1.2586, -2.9930, -3.7630]])\n"
     ]
    }
   ],
   "source": [
    "import torch\n",
    "from torch.distributions import Normal\n",
    "\n",
    "# Define a batch of means with shape [64, 3]\n",
    "means = torch.tensor([\n",
    "    [0.0, 1.0, 2.0]\n",
    "]*64, dtype=torch.float32)\n",
    "\n",
    "# If you want to have different standard deviations for each feature/sample\n",
    "# Here we'll use a common standard deviation, but you can also use a tensor with shape [64, 3]\n",
    "std_devs = torch.tensor([[1.0, 0.5, 2.0]] * means.shape[0])  # Same std dev for all samples\n",
    "\n",
    "# Create a Normal distribution using the batch of means\n",
    "probs = Normal(loc=means, scale=std_devs)\n",
    "\n",
    "# Example: Generate a batch of data for which we want to calculate log_prob\n",
    "# Using random samples from the normal distribution for demonstration purposes\n",
    "batch_data = probs.sample()  # Shape: [64, 3]\n",
    "\n",
    "# Calculate log_prob for each sample\n",
    "log_probs = probs.log_prob(batch_data)\n",
    "\n",
    "# Output log_probs\n",
    "print(\"Log Probabilities Shape:\", log_probs.shape)  # Should be [64, 3]\n",
    "print(\"Log Probabilities:\", log_probs)\n"
   ]
  },
  {
   "cell_type": "code",
   "execution_count": 13,
   "metadata": {},
   "outputs": [
    {
     "data": {
      "text/plain": [
       "array([[0., 0., 0.]])"
      ]
     },
     "execution_count": 13,
     "metadata": {},
     "output_type": "execute_result"
    }
   ],
   "source": [
    "import numpy as np\n",
    "np.zeros((1,3))"
   ]
  },
  {
   "cell_type": "code",
   "execution_count": 14,
   "metadata": {},
   "outputs": [
    {
     "data": {
      "text/plain": [
       "array([0., 0., 0.])"
      ]
     },
     "execution_count": 14,
     "metadata": {},
     "output_type": "execute_result"
    }
   ],
   "source": [
    "np.zeros(3)"
   ]
  },
  {
   "cell_type": "code",
   "execution_count": null,
   "metadata": {},
   "outputs": [],
   "source": [
    "for \n",
    "\n",
    "atom_par H      2.00  0.020   0.0000   0.00051  0.0  0.0  0  -1  -1  3\tH   # Non H-bonding Hydrogen\n",
    "atom_par HD     2.00  0.020   0.0000   0.00051  0.0  0.0  2  -1  -1  3\tH   # Donor 1 H-bond Hydrogen\n",
    "atom_par HS     2.00  0.020   0.0000   0.00051  0.0  0.0  1  -1  -1  3\tH   # Donor S Spherical Hydrogen\n",
    "atom_par C      4.00  0.150  33.5103  -0.00143  0.0  0.0  0  -1  -1  0\tC   # Non H-bonding Aliphatic Carbon\n",
    "atom_par A      4.00  0.150  33.5103  -0.00052  0.0  0.0  0  -1  -1  0\tC   # Non H-bonding Aromatic Carbon\n",
    "atom_par N      3.50  0.160  22.4493  -0.00162  0.0  0.0  0  -1  -1  1\tN   # Non H-bonding Nitrogen\n",
    "atom_par NA     3.50  0.160  22.4493  -0.00162  1.9  5.0  4  -1  -1  1\tN   # Acceptor 1 H-bond Nitrogen\n",
    "atom_par NS     3.50  0.160  22.4493  -0.00162  1.9  5.0  3  -1  -1  1\tN   # Acceptor S Spherical Nitrogen\n",
    "atom_par OA     3.20  0.200  17.1573  -0.00251  1.9  5.0  5  -1  -1  2\tO   # Acceptor 2 H-bonds Oxygen\n",
    "atom_par OS     3.20  0.200  17.1573  -0.00251  1.9  5.0  3  -1  -1  2\tO   # Acceptor S Spherical Oxygen\n",
    "atom_par F      3.09  0.080  15.4480  -0.00110  0.0  0.0  0  -1  -1  4\tF   # Non H-bonding Fluorine\n",
    "atom_par Mg     1.30  0.875   1.5600  -0.00110  0.0  0.0  0  -1  -1  4\tMg  # Non H-bonding Magnesium\n",
    "atom_par MG     1.30  0.875   1.5600  -0.00110  0.0  0.0  0  -1  -1  4\tMg  # Non H-bonding Magnesium\n",
    "atom_par P      4.20  0.200  38.7924  -0.00110  0.0  0.0  0  -1  -1  5\tP   # Non H-bonding Phosphorus\n",
    "atom_par SA     4.00  0.200  33.5103  -0.00214  2.5  1.0  5  -1  -1  6\tS   # Acceptor 2 H-bonds Sulphur\n",
    "atom_par S      4.00  0.200  33.5103  -0.00214  0.0  0.0  0  -1  -1  6\tS   # Non H-bonding Sulphur\n",
    "atom_par Cl     4.09  0.276  35.8235  -0.00110  0.0  0.0  0  -1  -1  4\tCl  # Non H-bonding Chlorine\n",
    "atom_par CL     4.09  0.276  35.8235  -0.00110  0.0  0.0  0  -1  -1  4\tCl  # Non H-bonding Chlorine\n",
    "atom_par Ca     1.98  0.550   2.7700  -0.00110  0.0  0.0  0  -1  -1  4\tCa  # Non H-bonding Calcium\n",
    "atom_par CA     1.98  0.550   2.7700  -0.00110  0.0  0.0  0  -1  -1  4\tCa  # Non H-bonding Calcium\n",
    "atom_par Mn     1.30  0.875   2.1400  -0.00110  0.0  0.0  0  -1  -1  4\tMn  # Non H-bonding Manganese\n",
    "atom_par MN     1.30  0.875   2.1400  -0.00110  0.0  0.0  0  -1  -1  4\tMn  # Non H-bonding Manganese\n",
    "atom_par Fe     1.30  0.010   1.8400  -0.00110  0.0  0.0  0  -1  -1  4\tFe  # Non H-bonding Iron\n",
    "atom_par FE     1.30  0.010   1.8400  -0.00110  0.0  0.0  0  -1  -1  4\tFe  # Non H-bonding Iron\n",
    "atom_par Zn     1.48  0.550   1.7000  -0.00110  0.0  0.0  0  -1  -1  4\tZn  # Non H-bonding Zinc\n",
    "atom_par ZN     1.48  0.550   1.7000  -0.00110  0.0  0.0  0  -1  -1  4\tZn  # Non H-bonding Zinc\n",
    "atom_par Br     4.33  0.389  42.5661  -0.00110  0.0  0.0  0  -1  -1  4\tBr  # Non H-bonding Bromine\n",
    "atom_par BR     4.33  0.389  42.5661  -0.00110  0.0  0.0  0  -1  -1  4\tBr  # Non H-bonding Bromine\n",
    "atom_par I      4.72  0.550  55.0585  -0.00110  0.0  0.0  0  -1  -1  4\tI   # Non H-bonding Iodine\n",
    "atom_par Z      4.00  0.150  33.5103  -0.00143  0.0  0.0  0  -1  -1  0  D   # Non H-bonding covalent map\n",
    "atom_par G      4.00  0.150  33.5103  -0.00143  0.0  0.0  0  -1  -1  0\tD   # Ring closure Glue Aliphatic Carbon  # SF\n",
    "atom_par GA     4.00  0.150  33.5103  -0.00052  0.0  0.0  0  -1  -1  0\tD   # Ring closure Glue Aromatic Carbon   # SF\n",
    "atom_par J      4.00  0.150  33.5103  -0.00143  0.0  0.0  0  -1  -1  0\tD   # Ring closure Glue Aliphatic Carbon  # SF\n",
    "atom_par Q      4.00  0.150  33.5103  -0.00143  0.0  0.0  0  -1  -1  0\tD   # Ring closure Glue Aliphatic Carbon  # SF\n",
    "atom_par W      0.00  0.200  00.0000  -0.00000  0.0  0.0  0  -1  -1  2\tO   # Acceptor 2 H-bonds Oxygen"
   ]
  }
 ],
 "metadata": {
  "kernelspec": {
   "display_name": "RLMD",
   "language": "python",
   "name": "python3"
  },
  "language_info": {
   "codemirror_mode": {
    "name": "ipython",
    "version": 3
   },
   "file_extension": ".py",
   "mimetype": "text/x-python",
   "name": "python",
   "nbconvert_exporter": "python",
   "pygments_lexer": "ipython3",
   "version": "3.12.5"
  }
 },
 "nbformat": 4,
 "nbformat_minor": 2
}
