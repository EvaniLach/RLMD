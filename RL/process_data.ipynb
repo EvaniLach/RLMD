{
 "cells": [
  {
   "cell_type": "code",
   "execution_count": 86,
   "metadata": {},
   "outputs": [],
   "source": [
    "import pandas as pd\n",
    "path = r\"C:\\Users\\evani\\OneDrive\\Documenten\\Phd\\RLMD\\data\\AD4_atom_params.txt\""
   ]
  },
  {
   "cell_type": "code",
   "execution_count": 88,
   "metadata": {},
   "outputs": [
    {
     "name": "stdout",
     "output_type": "stream",
     "text": [
      "File 'C:\\Users\\evani\\OneDrive\\Documenten\\Phd\\RLMD\\data\\AD4_atom_params.txt' converted to CSV format and saved as 'atom_params.csv'.\n"
     ]
    }
   ],
   "source": [
    "import csv\n",
    "\n",
    "def txt_to_csv(input_file, output_file):\n",
    "    with open(input_file, 'r') as infile, open(output_file, 'w', newline='') as csvfile:\n",
    "        writer = csv.writer(csvfile)\n",
    "        \n",
    "        for line in infile:\n",
    "            line_content = line.split('#')[0]\n",
    "            row = line_content.strip().split()\n",
    "            \n",
    "            writer.writerow(row)\n",
    "    \n",
    "    print(f\"File '{input_file}' converted to CSV format and saved as '{output_file}'.\")\n",
    "\n",
    "input_file = path \n",
    "output_file = 'atom_params.csv' \n",
    "\n",
    "txt_to_csv(input_file, output_file)\n"
   ]
  },
  {
   "cell_type": "code",
   "execution_count": 94,
   "metadata": {},
   "outputs": [],
   "source": [
    "df = pd.read_csv(\"atom_params.csv\", header=None)\n",
    "df = df.drop(columns=df.columns[0])"
   ]
  },
  {
   "cell_type": "code",
   "execution_count": 96,
   "metadata": {},
   "outputs": [
    {
     "name": "stdout",
     "output_type": "stream",
     "text": [
      "pd.DataFrame([\n",
      "    ['H', 2.0, 0.02, 0.0, 0.00051, 0.0, 0.0, 0, -1, -1, 3, 'H'],\n",
      "    ['HD', 2.0, 0.02, 0.0, 0.00051, 0.0, 0.0, 2, -1, -1, 3, 'H'],\n",
      "    ['HS', 2.0, 0.02, 0.0, 0.00051, 0.0, 0.0, 1, -1, -1, 3, 'H'],\n",
      "    ['C', 4.0, 0.15, 33.5103, -0.00143, 0.0, 0.0, 0, -1, -1, 0, 'C'],\n",
      "    ['A', 4.0, 0.15, 33.5103, -0.00052, 0.0, 0.0, 0, -1, -1, 0, 'C'],\n",
      "    ['N', 3.5, 0.16, 22.4493, -0.00162, 0.0, 0.0, 0, -1, -1, 1, 'N'],\n",
      "    [nan, 3.5, 0.16, 22.4493, -0.00162, 1.9, 5.0, 4, -1, -1, 1, 'N'],\n",
      "    ['NS', 3.5, 0.16, 22.4493, -0.00162, 1.9, 5.0, 3, -1, -1, 1, 'N'],\n",
      "    ['OA', 3.2, 0.2, 17.1573, -0.00251, 1.9, 5.0, 5, -1, -1, 2, 'O'],\n",
      "    ['OS', 3.2, 0.2, 17.1573, -0.00251, 1.9, 5.0, 3, -1, -1, 2, 'O'],\n",
      "    ['F', 3.09, 0.08, 15.448, -0.0011, 0.0, 0.0, 0, -1, -1, 4, 'F'],\n",
      "    ['Mg', 1.3, 0.875, 1.56, -0.0011, 0.0, 0.0, 0, -1, -1, 4, 'Mg'],\n",
      "    ['MG', 1.3, 0.875, 1.56, -0.0011, 0.0, 0.0, 0, -1, -1, 4, 'Mg'],\n",
      "    ['P', 4.2, 0.2, 38.7924, -0.0011, 0.0, 0.0, 0, -1, -1, 5, 'P'],\n",
      "    ['SA', 4.0, 0.2, 33.5103, -0.00214, 2.5, 1.0, 5, -1, -1, 6, 'S'],\n",
      "    ['S', 4.0, 0.2, 33.5103, -0.00214, 0.0, 0.0, 0, -1, -1, 6, 'S'],\n",
      "    ['Cl', 4.09, 0.276, 35.8235, -0.0011, 0.0, 0.0, 0, -1, -1, 4, 'Cl'],\n",
      "    ['CL', 4.09, 0.276, 35.8235, -0.0011, 0.0, 0.0, 0, -1, -1, 4, 'Cl'],\n",
      "    ['Ca', 1.98, 0.55, 2.77, -0.0011, 0.0, 0.0, 0, -1, -1, 4, 'Ca'],\n",
      "    ['CA', 1.98, 0.55, 2.77, -0.0011, 0.0, 0.0, 0, -1, -1, 4, 'Ca'],\n",
      "    ['Mn', 1.3, 0.875, 2.14, -0.0011, 0.0, 0.0, 0, -1, -1, 4, 'Mn'],\n",
      "    ['MN', 1.3, 0.875, 2.14, -0.0011, 0.0, 0.0, 0, -1, -1, 4, 'Mn'],\n",
      "    ['Fe', 1.3, 0.01, 1.84, -0.0011, 0.0, 0.0, 0, -1, -1, 4, 'Fe'],\n",
      "    ['FE', 1.3, 0.01, 1.84, -0.0011, 0.0, 0.0, 0, -1, -1, 4, 'Fe'],\n",
      "    ['Zn', 1.48, 0.55, 1.7, -0.0011, 0.0, 0.0, 0, -1, -1, 4, 'Zn'],\n",
      "    ['ZN', 1.48, 0.55, 1.7, -0.0011, 0.0, 0.0, 0, -1, -1, 4, 'Zn'],\n",
      "    ['Br', 4.33, 0.389, 42.5661, -0.0011, 0.0, 0.0, 0, -1, -1, 4, 'Br'],\n",
      "    ['BR', 4.33, 0.389, 42.5661, -0.0011, 0.0, 0.0, 0, -1, -1, 4, 'Br'],\n",
      "    ['I', 4.72, 0.55, 55.0585, -0.0011, 0.0, 0.0, 0, -1, -1, 4, 'I'],\n",
      "    ['Z', 4.0, 0.15, 33.5103, -0.00143, 0.0, 0.0, 0, -1, -1, 0, 'D'],\n",
      "    ['G', 4.0, 0.15, 33.5103, -0.00143, 0.0, 0.0, 0, -1, -1, 0, 'D'],\n",
      "    ['GA', 4.0, 0.15, 33.5103, -0.00052, 0.0, 0.0, 0, -1, -1, 0, 'D'],\n",
      "    ['J', 4.0, 0.15, 33.5103, -0.00143, 0.0, 0.0, 0, -1, -1, 0, 'D'],\n",
      "    ['Q', 4.0, 0.15, 33.5103, -0.00143, 0.0, 0.0, 0, -1, -1, 0, 'D'],\n",
      "    ['W', 0.0, 0.2, 0.0, -0.0, 0.0, 0.0, 0, -1, -1, 2, 'O'],\n",
      "])\n"
     ]
    }
   ],
   "source": [
    "import pandas as pd\n",
    "\n",
    "print(\"pd.DataFrame([\")\n",
    "for index, row in df.iterrows():\n",
    "    # Convert the row to a list and format it for display\n",
    "    row_data = row.tolist()\n",
    "    print(f\"    {row_data},\")  # Print each row as a list\n",
    "print(\"])\")\n"
   ]
  }
 ],
 "metadata": {
  "kernelspec": {
   "display_name": "RLMD",
   "language": "python",
   "name": "python3"
  },
  "language_info": {
   "codemirror_mode": {
    "name": "ipython",
    "version": 3
   },
   "file_extension": ".py",
   "mimetype": "text/x-python",
   "name": "python",
   "nbconvert_exporter": "python",
   "pygments_lexer": "ipython3",
   "version": "3.12.5"
  }
 },
 "nbformat": 4,
 "nbformat_minor": 2
}
