{
 "cells": [
  {
   "cell_type": "code",
   "execution_count": 2,
   "metadata": {},
   "outputs": [],
   "source": [
    "import prepare_receptor4"
   ]
  },
  {
   "cell_type": "code",
   "execution_count": 4,
   "metadata": {},
   "outputs": [],
   "source": [
    "file_name = \"/home/lachmansinghet/data1/RLMD/PDBbind_v2020_refined/refined-set/1a1e/1a1e_protein.pdb\""
   ]
  },
  {
   "cell_type": "code",
   "execution_count": 5,
   "metadata": {},
   "outputs": [
    {
     "ename": "RuntimeError",
     "evalue": "Error while parsing line 19 in /home/lachmansinghet/data1/RLMD/PDBbind_v2020_refined/refined-set/1a1e/1a1e_protein.pdb: ATOM      1  N   ILE A 146      57.904  24.527  16.458  1.00 39.85           N\n",
     "output_type": "error",
     "traceback": [
      "\u001b[0;31m---------------------------------------------------------------------------\u001b[0m",
      "\u001b[0;31mNameError\u001b[0m                                 Traceback (most recent call last)",
      "File \u001b[0;32m/data1/lachmansinghet/RLMD/RL/MolKit/pdbParser.py:428\u001b[0m, in \u001b[0;36mPdbParser.parse_PDB_atoms\u001b[0;34m(self, atoms, mol)\u001b[0m\n\u001b[1;32m    427\u001b[0m \u001b[38;5;28;01mtry\u001b[39;00m:\n\u001b[0;32m--> 428\u001b[0m     at \u001b[38;5;241m=\u001b[39m \u001b[38;5;28;43mself\u001b[39;49m\u001b[38;5;241;43m.\u001b[39;49m\u001b[43mparse_PDB_ATOM_record\u001b[49m\u001b[43m(\u001b[49m\u001b[43matRec\u001b[49m\u001b[43m,\u001b[49m\u001b[43m \u001b[49m\u001b[43mmol\u001b[49m\u001b[43m)\u001b[49m\n\u001b[1;32m    429\u001b[0m     \u001b[38;5;28;01mif\u001b[39;00m at \u001b[38;5;129;01mis\u001b[39;00m \u001b[38;5;129;01mnot\u001b[39;00m \u001b[38;5;28;01mNone\u001b[39;00m:\n",
      "File \u001b[0;32m/data1/lachmansinghet/RLMD/RL/MolKit/pdbParser.py:447\u001b[0m, in \u001b[0;36mPdbParser.parse_PDB_ATOM_record\u001b[0;34m(self, rec, mol)\u001b[0m\n\u001b[1;32m    446\u001b[0m \u001b[38;5;66;03m# Handle the alternate location using a flag.\u001b[39;00m\n\u001b[0;32m--> 447\u001b[0m rec \u001b[38;5;241m=\u001b[39m \u001b[43mstrip\u001b[49m(rec)\n\u001b[1;32m    449\u001b[0m \u001b[38;5;28;01mif\u001b[39;00m rec[\u001b[38;5;241m16\u001b[39m]\u001b[38;5;241m!=\u001b[39m \u001b[38;5;124m'\u001b[39m\u001b[38;5;124m \u001b[39m\u001b[38;5;124m'\u001b[39m: \u001b[38;5;28mself\u001b[39m\u001b[38;5;241m.\u001b[39maltLoc \u001b[38;5;241m=\u001b[39m rec[\u001b[38;5;241m16\u001b[39m]\n",
      "\u001b[0;31mNameError\u001b[0m: name 'strip' is not defined",
      "\nDuring handling of the above exception, another exception occurred:\n",
      "\u001b[0;31mRuntimeError\u001b[0m                              Traceback (most recent call last)",
      "Cell \u001b[0;32mIn[5], line 1\u001b[0m\n\u001b[0;32m----> 1\u001b[0m \u001b[43mprepare_receptor4\u001b[49m\u001b[38;5;241;43m.\u001b[39;49m\u001b[43mmain\u001b[49m\u001b[43m(\u001b[49m\u001b[43mfile_name\u001b[49m\u001b[43m)\u001b[49m\n",
      "File \u001b[0;32m/data1/lachmansinghet/RLMD/RL/prepare_receptor4.py:94\u001b[0m, in \u001b[0;36mmain\u001b[0;34m(file_path, opt_list)\u001b[0m\n\u001b[1;32m     90\u001b[0m     sys\u001b[38;5;241m.\u001b[39mexit()\n\u001b[1;32m     92\u001b[0m \u001b[38;5;66;03m# what about nucleic acids???\u001b[39;00m\n\u001b[0;32m---> 94\u001b[0m mols \u001b[38;5;241m=\u001b[39m \u001b[43mRead\u001b[49m\u001b[43m(\u001b[49m\u001b[43mreceptor_filename\u001b[49m\u001b[43m)\u001b[49m\n\u001b[1;32m     95\u001b[0m \u001b[38;5;28;01mif\u001b[39;00m verbose:\n\u001b[1;32m     96\u001b[0m     \u001b[38;5;28mprint\u001b[39m(\u001b[38;5;124m\"\u001b[39m\u001b[38;5;124mread \u001b[39m\u001b[38;5;124m\"\u001b[39m, receptor_filename)\n",
      "File \u001b[0;32m/data1/lachmansinghet/RLMD/RL/MolKit/__init__.py:64\u001b[0m, in \u001b[0;36mRead\u001b[0;34m(filename, modelsAs)\u001b[0m\n\u001b[1;32m     62\u001b[0m     \u001b[38;5;28mprint\u001b[39m(\u001b[38;5;124m\"\u001b[39m\u001b[38;5;124mFile Format unknown can\u001b[39m\u001b[38;5;124m'\u001b[39m\u001b[38;5;124mt parse it\u001b[39m\u001b[38;5;124m\"\u001b[39m)\n\u001b[1;32m     63\u001b[0m     \u001b[38;5;28;01mreturn\u001b[39;00m []\n\u001b[0;32m---> 64\u001b[0m molecules \u001b[38;5;241m=\u001b[39m \u001b[43mparser\u001b[49m\u001b[38;5;241;43m.\u001b[39;49m\u001b[43mparse\u001b[49m\u001b[43m(\u001b[49m\u001b[43m)\u001b[49m\n\u001b[1;32m     65\u001b[0m \u001b[38;5;28;01mreturn\u001b[39;00m molecules\n",
      "File \u001b[0;32m/data1/lachmansinghet/RLMD/RL/MolKit/pdbParser.py:669\u001b[0m, in \u001b[0;36mPdbParser.parse\u001b[0;34m(self, objClass)\u001b[0m\n\u001b[1;32m    666\u001b[0m                 molList \u001b[38;5;241m=\u001b[39m \u001b[38;5;28mself\u001b[39m\u001b[38;5;241m.\u001b[39mmol\u001b[38;5;241m.\u001b[39msetClass()\n\u001b[1;32m    667\u001b[0m                 molList\u001b[38;5;241m.\u001b[39mappend(\u001b[38;5;28mself\u001b[39m\u001b[38;5;241m.\u001b[39mmol)\n\u001b[0;32m--> 669\u001b[0m                 \u001b[38;5;28;43mself\u001b[39;49m\u001b[38;5;241;43m.\u001b[39;49m\u001b[43mpdbRecordParser\u001b[49m\u001b[43m[\u001b[49m\u001b[43mrecord\u001b[49m\u001b[43m]\u001b[49m\u001b[43m(\u001b[49m\u001b[38;5;28;43mself\u001b[39;49m\u001b[38;5;241;43m.\u001b[39;49m\u001b[43mallLines\u001b[49m\u001b[43m,\u001b[49m\u001b[43m \u001b[49m\u001b[38;5;28;43mself\u001b[39;49m\u001b[38;5;241;43m.\u001b[39;49m\u001b[43mmol\u001b[49m\u001b[43m)\u001b[49m\n\u001b[1;32m    671\u001b[0m \u001b[38;5;66;03m## MS Not sure what .gap is used for ? might affect ribbons ?\u001b[39;00m\n\u001b[1;32m    672\u001b[0m \u001b[38;5;66;03m##\u001b[39;00m\n\u001b[1;32m    673\u001b[0m \u001b[38;5;66;03m##                 ter = self.findEndChains()\u001b[39;00m\n\u001b[0;32m   (...)\u001b[0m\n\u001b[1;32m    712\u001b[0m \n\u001b[1;32m    713\u001b[0m             \u001b[38;5;28;01melse\u001b[39;00m: \n\u001b[1;32m    714\u001b[0m                 \u001b[38;5;28mself\u001b[39m\u001b[38;5;241m.\u001b[39mmodel \u001b[38;5;241m=\u001b[39m \u001b[38;5;28;01mTrue\u001b[39;00m\n",
      "File \u001b[0;32m/data1/lachmansinghet/RLMD/RL/MolKit/pdbParser.py:434\u001b[0m, in \u001b[0;36mPdbParser.parse_PDB_atoms\u001b[0;34m(self, atoms, mol)\u001b[0m\n\u001b[1;32m    431\u001b[0m     \u001b[38;5;28;01mexcept\u001b[39;00m \u001b[38;5;167;01mException\u001b[39;00m \u001b[38;5;28;01mas\u001b[39;00m inst:\n\u001b[1;32m    432\u001b[0m         \u001b[38;5;66;03m#print \"Error while parsing line %d in %s:\\n\"+atRec\u001b[39;00m\n\u001b[1;32m    433\u001b[0m         lineno \u001b[38;5;241m=\u001b[39m \u001b[38;5;28mself\u001b[39m\u001b[38;5;241m.\u001b[39mallLines\u001b[38;5;241m.\u001b[39mindex(atRec)\n\u001b[0;32m--> 434\u001b[0m         \u001b[38;5;28;01mraise\u001b[39;00m \u001b[38;5;167;01mRuntimeError\u001b[39;00m(\u001b[38;5;124m\"\u001b[39m\u001b[38;5;124mError while parsing line \u001b[39m\u001b[38;5;132;01m%d\u001b[39;00m\u001b[38;5;124m in \u001b[39m\u001b[38;5;132;01m%s\u001b[39;00m\u001b[38;5;124m: \u001b[39m\u001b[38;5;132;01m%s\u001b[39;00m\u001b[38;5;124m\"\u001b[39m\u001b[38;5;241m%\u001b[39m(lineno, \u001b[38;5;28mself\u001b[39m\u001b[38;5;241m.\u001b[39mfilename, atRec))\n\u001b[1;32m    436\u001b[0m mol\u001b[38;5;241m.\u001b[39mallAtoms \u001b[38;5;241m=\u001b[39m mol\u001b[38;5;241m.\u001b[39mallAtoms \u001b[38;5;241m+\u001b[39m AtomSet(ats)\n",
      "\u001b[0;31mRuntimeError\u001b[0m: Error while parsing line 19 in /home/lachmansinghet/data1/RLMD/PDBbind_v2020_refined/refined-set/1a1e/1a1e_protein.pdb: ATOM      1  N   ILE A 146      57.904  24.527  16.458  1.00 39.85           N\n"
     ]
    }
   ],
   "source": [
    "prepare_receptor4.main(file_name)"
   ]
  },
  {
   "cell_type": "code",
   "execution_count": 9,
   "metadata": {},
   "outputs": [],
   "source": [
    "parser =\"/home/lachmansinghet/data1/RLMD/RL/MolKit/pdbParser.py\""
   ]
  },
  {
   "cell_type": "code",
   "execution_count": 19,
   "metadata": {},
   "outputs": [
    {
     "name": "stdout",
     "output_type": "stream",
     "text": [
      "[]\n",
      "All instances of split(x) have been replaced in /home/lachmansinghet/data1/RLMD/RL/MolKit/pdbParser.py.\n"
     ]
    }
   ],
   "source": [
    "import re\n",
    "\n",
    "def replace_split_calls(file_path):\n",
    "    # Step 1: Read the file contents\n",
    "    with open(file_path, 'r') as file:\n",
    "        file_contents = file.read()\n",
    "\n",
    "    # Step 2: Define the regex pattern to match 'split(x)'\n",
    "    pattern = r'split\\s*\\(\\s*([^,\\s)]+)\\s*\\)'\n",
    "\n",
    "    # Step 4: Find all matches and extract the argument\n",
    "    matches = re.findall(pattern, file_contents)\n",
    "\n",
    "    print(matches)\n",
    "    \n",
    "    # Step 3: Define a replacement function\n",
    "    def replace_function(match):\n",
    "        \n",
    "        # Extract the argument and create 'x.split()'\n",
    "        argument = match.group(1).strip()  # Get the captured argument\n",
    "        return f\"{argument}.split()\"        # Return the new format\n",
    "    \n",
    "    # Step 4: Perform the replacement\n",
    "    new_contents = re.sub(pattern, replace_function, file_contents)\n",
    "\n",
    "    # Step 5: Write the changes back to the file\n",
    "    with open(file_path, 'w') as file:\n",
    "        file.write(new_contents)\n",
    "\n",
    "# Usage example\n",
    "replace_split_calls(parser)\n",
    "\n",
    "print(f\"All instances of split(x) have been replaced in {parser}.\")\n"
   ]
  },
  {
   "cell_type": "code",
   "execution_count": 23,
   "metadata": {},
   "outputs": [
    {
     "name": "stdout",
     "output_type": "stream",
     "text": [
      "['x']\n"
     ]
    }
   ],
   "source": [
    "import re\n",
    "\n",
    "pattern = r'split\\s*\\(\\s*([^,\\s)]+)\\s*\\)'\n",
    "\n",
    "# Example string\n",
    "string = \"result = split(x)\"\n",
    "\n",
    "match = re.findall(pattern, string)\n",
    "print(match)\n",
    "\n",
    "# if match:\n",
    "#     print(\"Matched argument:\", match.group(1))  # Output: x\n"
   ]
  },
  {
   "cell_type": "code",
   "execution_count": 27,
   "metadata": {},
   "outputs": [],
   "source": [
    "import re\n",
    "\n",
    "# Define the regex pattern\n",
    "pattern = r'strip\\s*\\(\\s*([^,\\s)]+)\\s*\\)'\n",
    "\n",
    "# Define the replacement function\n",
    "def replace_split(match):\n",
    "    # Get the matched argument\n",
    "    argument = match.group(1)\n",
    "    # Modify the output as needed (e.g., changing 'split' to 'custom_split')\n",
    "    return f'{argument}.strip()'\n",
    "\n",
    "# Read the input Python file\n",
    "input_file_path = parser  # Change to your input file path\n",
    "output_file_path = 'output_file.py'  # Change to your desired output file path\n",
    "\n",
    "with open(input_file_path, 'r') as file:\n",
    "    content = file.read()\n",
    "\n",
    "# Replace all occurrences using re.sub with the replacement function\n",
    "modified_content = re.sub(pattern, replace_split, content)\n",
    "\n",
    "# Write the modified content to a new file\n",
    "with open(output_file_path, 'w') as file:\n",
    "    file.write(modified_content)\n"
   ]
  }
 ],
 "metadata": {
  "kernelspec": {
   "display_name": "Python 3",
   "language": "python",
   "name": "python3"
  },
  "language_info": {
   "codemirror_mode": {
    "name": "ipython",
    "version": 3
   },
   "file_extension": ".py",
   "mimetype": "text/x-python",
   "name": "python",
   "nbconvert_exporter": "python",
   "pygments_lexer": "ipython3",
   "version": "3.9.18"
  }
 },
 "nbformat": 4,
 "nbformat_minor": 2
}
